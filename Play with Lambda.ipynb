{
 "cells": [
  {
   "cell_type": "markdown",
   "id": "efe69e1f",
   "metadata": {},
   "source": [
    "Write a Python program to create a lambda function that adds 25 to a given number passed in as an argument.\n",
    "\n",
    "sample input: 10\n",
    "sample output: 35"
   ]
  },
  {
   "cell_type": "code",
   "execution_count": 1,
   "id": "60e5f727",
   "metadata": {},
   "outputs": [
    {
     "name": "stdout",
     "output_type": "stream",
     "text": [
      "Enter a number: 10\n",
      "Sample output : 35\n"
     ]
    }
   ],
   "source": [
    "add_number = lambda x:x+25\n",
    "input_number = int(input(\"Enter a number: \"))\n",
    "result=add_number(input_number)\n",
    "print('Sample output :',+ result)"
   ]
  },
  {
   "cell_type": "code",
   "execution_count": null,
   "id": "ccb98d50",
   "metadata": {},
   "outputs": [],
   "source": []
  }
 ],
 "metadata": {
  "kernelspec": {
   "display_name": "Python 3 (ipykernel)",
   "language": "python",
   "name": "python3"
  },
  "language_info": {
   "codemirror_mode": {
    "name": "ipython",
    "version": 3
   },
   "file_extension": ".py",
   "mimetype": "text/x-python",
   "name": "python",
   "nbconvert_exporter": "python",
   "pygments_lexer": "ipython3",
   "version": "3.9.12"
  }
 },
 "nbformat": 4,
 "nbformat_minor": 5
}
