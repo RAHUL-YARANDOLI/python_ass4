{
 "cells": [
  {
   "cell_type": "markdown",
   "id": "0e6a1f33",
   "metadata": {},
   "source": [
    "Write a Python program to square the elements of a list using map() function.\n",
    "\n",
    "Sample List: [4, 5, 2, 9]\n",
    "\n",
    "Square the elements of the list:\n",
    "\n",
    "[16, 25, 4, 81]"
   ]
  },
  {
   "cell_type": "code",
   "execution_count": 12,
   "id": "a2a2f11a",
   "metadata": {},
   "outputs": [
    {
     "name": "stdout",
     "output_type": "stream",
     "text": [
      "Square the Element of list: [16, 25, 4, 81]\n"
     ]
    }
   ],
   "source": [
    "def square(n): \n",
    "    return n*n\n",
    "sample_list = [4,5,2,9] \n",
    "result = map(square, sample_list)\n",
    "print(\"Square the Element of list:\",list(result))"
   ]
  },
  {
   "cell_type": "code",
   "execution_count": null,
   "id": "fd61e0e4",
   "metadata": {},
   "outputs": [],
   "source": []
  }
 ],
 "metadata": {
  "kernelspec": {
   "display_name": "Python 3 (ipykernel)",
   "language": "python",
   "name": "python3"
  },
  "language_info": {
   "codemirror_mode": {
    "name": "ipython",
    "version": 3
   },
   "file_extension": ".py",
   "mimetype": "text/x-python",
   "name": "python",
   "nbconvert_exporter": "python",
   "pygments_lexer": "ipython3",
   "version": "3.9.12"
  }
 },
 "nbformat": 4,
 "nbformat_minor": 5
}
